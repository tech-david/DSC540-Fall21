{
 "cells": [
  {
   "cell_type": "code",
   "execution_count": 1,
   "id": "84dfc4df",
   "metadata": {},
   "outputs": [
    {
     "name": "stdout",
     "output_type": "stream",
     "text": [
      "1st iteration\n",
      "=====================================\n",
      "w1:  1.6\n",
      "w2:  -0.4\n",
      "function value: 20\n",
      "\n",
      "*************************************\n",
      "\n",
      "2nd iteration\n",
      "=====================================\n",
      "w1:  1.04\n",
      "w2:  -0.32\n",
      "function value: 4.64\n"
     ]
    },
    {
     "data": {
      "image/png": "[encoded data removed]",
      "text/plain": [
       "<Figure size 432x288 with 1 Axes>"
      ]
     },
     "metadata": {
      "needs_background": "light"
     },
     "output_type": "display_data"
    }
   ],
   "source": [
    "import matplotlib.pyplot as plt\n",
    "import numpy as np\n",
    "\n",
    "# Setup of variable values, function, and learning value\n",
    "w1 = 2\n",
    "w2 = -2\n",
    "Ew = 2 * w1 ^ 2 + 2 * w1 * w2 + 5 * w2 ^ 2\n",
    "alpha = 0.1\n",
    "# Arrays to store values\n",
    "w1arr = []\n",
    "w2arr = []\n",
    "Ewarr = []\n",
    "for i in range(2):\n",
    "    if i == 0:\n",
    "        # Value of first function\n",
    "        Ewarr.append(20)\n",
    "    # Partial derivative with respect to w1\n",
    "    Ewdw1 = 4 * w1 + 2 * w2\n",
    "    # Partial derivative with respect to w2\n",
    "    Ewdw2 = 2 * w1 + 10 * w2\n",
    "    # Iteration begins\n",
    "    w1 = w1 - alpha * Ewdw1\n",
    "    w2 = w2 - alpha * Ewdw2\n",
    "    w1arr.append(w1)\n",
    "    w2arr.append(w2)\n",
    "    # Getting new function value\n",
    "    Ew = 2 * w1 * w1 + 2 * w1 * w2 + 5 * w2 * w2\n",
    "    Ewarr.append(Ew)\n",
    "\n",
    "print(\"1st iteration\")\n",
    "print(\"=====================================\")\n",
    "print(\"w1: \", round(w1arr[0], 4))\n",
    "print(\"w2: \", round(w2arr[0], 4))\n",
    "print(\"function value:\", round(Ewarr[0], 4))\n",
    "print(\"\\n*************************************\\n\")\n",
    "print(\"2nd iteration\")\n",
    "print(\"=====================================\")\n",
    "print(\"w1: \", round(w1arr[1], 4))\n",
    "print(\"w2: \", round(w2arr[1], 4))\n",
    "print(\"function value:\", round(Ewarr[1], 4))\n",
    "\n",
    "## Plot\n",
    "i = [0, 1, 2]\n",
    "i = np.asarray(i)\n",
    "Ewarr = np.asarray(Ewarr)\n",
    "plt.plot(i, Ewarr)\n",
    "plt.xlabel('Iteration')\n",
    "plt.ylabel('E(w) value')\n",
    "plt.title('Gradient Descent')\n",
    "plt.show()\n"
   ]
  },
  {
   "cell_type": "code",
   "execution_count": null,
   "id": "79507c3e",
   "metadata": {},
   "outputs": [],
   "source": []
  }
 ],
 "metadata": {
  "kernelspec": {
   "display_name": "Python 3",
   "language": "python",
   "name": "python3"
  },
  "language_info": {
   "codemirror_mode": {
    "name": "ipython",
    "version": 3
   },
   "file_extension": ".py",
   "mimetype": "text/x-python",
   "name": "python",
   "nbconvert_exporter": "python",
   "pygments_lexer": "ipython3",
   "version": "3.8.8"
  }
 },
 "nbformat": 4,
 "nbformat_minor": 5
}
