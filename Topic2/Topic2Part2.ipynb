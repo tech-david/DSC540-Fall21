{
 "cells": [
  {
   "cell_type": "code",
   "execution_count": 2,
   "id": "3bf23310",
   "metadata": {},
   "outputs": [],
   "source": [
    "import numpy as np\n",
    "import pandas as pd\n",
    "from matplotlib import pyplot as plt\n",
    "from sklearn.metrics import accuracy_score, classification_report, roc_curve, auc, roc_auc_score\n",
    "from sklearn.model_selection import cross_val_predict\n",
    "from sklearn.neighbors import KNeighborsClassifier as knn\n",
    "from sklearn import preprocessing, metrics\n",
    "%matplotlib inline"
   ]
  },
  {
   "cell_type": "code",
   "execution_count": 3,
   "id": "463bb9ca",
   "metadata": {},
   "outputs": [
    {
     "name": "stdout",
     "output_type": "stream",
     "text": [
      "['1x1', '1x2', '1x3', '1x4', '1x5', '1x6', '1x7', '1x8', '1x9', '1x10', '1x11', '1x12', '1x13', '1x14', '1x15', '1x16', '1x17', '1x18', '1x19', '1x20', '1x21', '1x22', '1x23', '1x24', '1x25', '1x26', '1x27', '1x28', '2x1', '2x2', '2x3', '2x4', '2x5', '2x6', '2x7', '2x8', '2x9', '2x10', '2x11', '2x12', '2x13', '2x14', '2x15', '2x16', '2x17', '2x18', '2x19', '2x20', '2x21', '2x22', '2x23', '2x24', '2x25', '2x26', '2x27', '2x28', '3x1', '3x2', '3x3', '3x4', '3x5', '3x6', '3x7', '3x8', '3x9', '3x10', '3x11', '3x12', '3x13', '3x14', '3x15', '3x16', '3x17', '3x18', '3x19', '3x20', '3x21', '3x22', '3x23', '3x24', '3x25', '3x26', '3x27', '3x28', '4x1', '4x2', '4x3', '4x4', '4x5', '4x6', '4x7', '4x8', '4x9', '4x10', '4x11', '4x12', '4x13', '4x14', '4x15', '4x16', '4x17', '4x18', '4x19', '4x20', '4x21', '4x22', '4x23', '4x24', '4x25', '4x26', '4x27', '4x28', '5x1', '5x2', '5x3', '5x4', '5x5', '5x6', '5x7', '5x8', '5x9', '5x10', '5x11', '5x12', '5x13', '5x14', '5x15', '5x16', '5x17', '5x18', '5x19', '5x20', '5x21', '5x22', '5x23', '5x24', '5x25', '5x26', '5x27', '5x28', '6x1', '6x2', '6x3', '6x4', '6x5', '6x6', '6x7', '6x8', '6x9', '6x10', '6x11', '6x12', '6x13', '6x14', '6x15', '6x16', '6x17', '6x18', '6x19', '6x20', '6x21', '6x22', '6x23', '6x24', '6x25', '6x26', '6x27', '6x28', '7x1', '7x2', '7x3', '7x4', '7x5', '7x6', '7x7', '7x8', '7x9', '7x10', '7x11', '7x12', '7x13', '7x14', '7x15', '7x16', '7x17', '7x18', '7x19', '7x20', '7x21', '7x22', '7x23', '7x24', '7x25', '7x26', '7x27', '7x28', '8x1', '8x2', '8x3', '8x4', '8x5', '8x6', '8x7', '8x8', '8x9', '8x10', '8x11', '8x12', '8x13', '8x14', '8x15', '8x16', '8x17', '8x18', '8x19', '8x20', '8x21', '8x22', '8x23', '8x24', '8x25', '8x26', '8x27', '8x28', '9x1', '9x2', '9x3', '9x4', '9x5', '9x6', '9x7', '9x8', '9x9', '9x10', '9x11', '9x12', '9x13', '9x14', '9x15', '9x16', '9x17', '9x18', '9x19', '9x20', '9x21', '9x22', '9x23', '9x24', '9x25', '9x26', '9x27', '9x28', '10x1', '10x2', '10x3', '10x4', '10x5', '10x6', '10x7', '10x8', '10x9', '10x10', '10x11', '10x12', '10x13', '10x14', '10x15', '10x16', '10x17', '10x18', '10x19', '10x20', '10x21', '10x22', '10x23', '10x24', '10x25', '10x26', '10x27', '10x28', '11x1', '11x2', '11x3', '11x4', '11x5', '11x6', '11x7', '11x8', '11x9', '11x10', '11x11', '11x12', '11x13', '11x14', '11x15', '11x16', '11x17', '11x18', '11x19', '11x20', '11x21', '11x22', '11x23', '11x24', '11x25', '11x26', '11x27', '11x28', '12x1', '12x2', '12x3', '12x4', '12x5', '12x6', '12x7', '12x8', '12x9', '12x10', '12x11', '12x12', '12x13', '12x14', '12x15', '12x16', '12x17', '12x18', '12x19', '12x20', '12x21', '12x22', '12x23', '12x24', '12x25', '12x26', '12x27', '12x28', '13x1', '13x2', '13x3', '13x4', '13x5', '13x6', '13x7', '13x8', '13x9', '13x10', '13x11', '13x12', '13x13', '13x14', '13x15', '13x16', '13x17', '13x18', '13x19', '13x20', '13x21', '13x22', '13x23', '13x24', '13x25', '13x26', '13x27', '13x28', '14x1', '14x2', '14x3', '14x4', '14x5', '14x6', '14x7', '14x8', '14x9', '14x10', '14x11', '14x12', '14x13', '14x14', '14x15', '14x16', '14x17', '14x18', '14x19', '14x20', '14x21', '14x22', '14x23', '14x24', '14x25', '14x26', '14x27', '14x28', '15x1', '15x2', '15x3', '15x4', '15x5', '15x6', '15x7', '15x8', '15x9', '15x10', '15x11', '15x12', '15x13', '15x14', '15x15', '15x16', '15x17', '15x18', '15x19', '15x20', '15x21', '15x22', '15x23', '15x24', '15x25', '15x26', '15x27', '15x28', '16x1', '16x2', '16x3', '16x4', '16x5', '16x6', '16x7', '16x8', '16x9', '16x10', '16x11', '16x12', '16x13', '16x14', '16x15', '16x16', '16x17', '16x18', '16x19', '16x20', '16x21', '16x22', '16x23', '16x24', '16x25', '16x26', '16x27', '16x28', '17x1', '17x2', '17x3', '17x4', '17x5', '17x6', '17x7', '17x8', '17x9', '17x10', '17x11', '17x12', '17x13', '17x14', '17x15', '17x16', '17x17', '17x18', '17x19', '17x20', '17x21', '17x22', '17x23', '17x24', '17x25', '17x26', '17x27', '17x28', '18x1', '18x2', '18x3', '18x4', '18x5', '18x6', '18x7', '18x8', '18x9', '18x10', '18x11', '18x12', '18x13', '18x14', '18x15', '18x16', '18x17', '18x18', '18x19', '18x20', '18x21', '18x22', '18x23', '18x24', '18x25', '18x26', '18x27', '18x28', '19x1', '19x2', '19x3', '19x4', '19x5', '19x6', '19x7', '19x8', '19x9', '19x10', '19x11', '19x12', '19x13', '19x14', '19x15', '19x16', '19x17', '19x18', '19x19', '19x20', '19x21', '19x22', '19x23', '19x24', '19x25', '19x26', '19x27', '19x28', '20x1', '20x2', '20x3', '20x4', '20x5', '20x6', '20x7', '20x8', '20x9', '20x10', '20x11', '20x12', '20x13', '20x14', '20x15', '20x16', '20x17', '20x18', '20x19', '20x20', '20x21', '20x22', '20x23', '20x24', '20x25', '20x26', '20x27', '20x28', '21x1', '21x2', '21x3', '21x4', '21x5', '21x6', '21x7', '21x8', '21x9', '21x10', '21x11', '21x12', '21x13', '21x14', '21x15', '21x16', '21x17', '21x18', '21x19', '21x20', '21x21', '21x22', '21x23', '21x24', '21x25', '21x26', '21x27', '21x28', '22x1', '22x2', '22x3', '22x4', '22x5', '22x6', '22x7', '22x8', '22x9', '22x10', '22x11', '22x12', '22x13', '22x14', '22x15', '22x16', '22x17', '22x18', '22x19', '22x20', '22x21', '22x22', '22x23', '22x24', '22x25', '22x26', '22x27', '22x28', '23x1', '23x2', '23x3', '23x4', '23x5', '23x6', '23x7', '23x8', '23x9', '23x10', '23x11', '23x12', '23x13', '23x14', '23x15', '23x16', '23x17', '23x18', '23x19', '23x20', '23x21', '23x22', '23x23', '23x24', '23x25', '23x26', '23x27', '23x28', '24x1', '24x2', '24x3', '24x4', '24x5', '24x6', '24x7', '24x8', '24x9', '24x10', '24x11', '24x12', '24x13', '24x14', '24x15', '24x16', '24x17', '24x18', '24x19', '24x20', '24x21', '24x22', '24x23', '24x24', '24x25', '24x26', '24x27', '24x28', '25x1', '25x2', '25x3', '25x4', '25x5', '25x6', '25x7', '25x8', '25x9', '25x10', '25x11', '25x12', '25x13', '25x14', '25x15', '25x16', '25x17', '25x18', '25x19', '25x20', '25x21', '25x22', '25x23', '25x24', '25x25', '25x26', '25x27', '25x28', '26x1', '26x2', '26x3', '26x4', '26x5', '26x6', '26x7', '26x8', '26x9', '26x10', '26x11', '26x12', '26x13', '26x14', '26x15', '26x16', '26x17', '26x18', '26x19', '26x20', '26x21', '26x22', '26x23', '26x24', '26x25', '26x26', '26x27', '26x28', '27x1', '27x2', '27x3', '27x4', '27x5', '27x6', '27x7', '27x8', '27x9', '27x10', '27x11', '27x12', '27x13', '27x14', '27x15', '27x16', '27x17', '27x18', '27x19', '27x20', '27x21', '27x22', '27x23', '27x24', '27x25', '27x26', '27x27', '27x28', '28x1', '28x2', '28x3', '28x4', '28x5', '28x6', '28x7', '28x8', '28x9', '28x10', '28x11', '28x12', '28x13', '28x14', '28x15', '28x16', '28x17', '28x18', '28x19', '28x20', '28x21', '28x22', '28x23', '28x24', '28x25', '28x26', '28x27', '28x28']\n"
     ]
    }
   ],
   "source": [
    "## Assigning folder and files to variables\n",
    "path = \"C:/Users/David/OneDrive - Grand Canyon University/DSC540/DataSets\"\n",
    "train_file = \"mnist_train.csv\"\n",
    "test_file = \"mnist_test.csv\"\n",
    "\n",
    "## Loading datasets\n",
    "mnist_train = pd.read_csv(path + \"/\" + train_file)\n",
    "mnist_test = pd.read_csv(path + \"/\" + test_file)\n",
    "\n",
    "## Separating labels from data\n",
    "y_train = mnist_train['label']\n",
    "x_train = mnist_train.drop(labels=['label'], axis=1)\n",
    "y_test = mnist_test['label']\n",
    "x_test = mnist_test.drop(labels=['label'], axis=1)\n",
    "\n",
    "## Variables in dataset\n",
    "print(list(x_train))"
   ]
  },
  {
   "cell_type": "code",
   "execution_count": 4,
   "id": "eeaad24c",
   "metadata": {},
   "outputs": [
    {
     "data": {
      "image/png": "[encoded data removed]",
      "text/plain": [
       "<Figure size 432x288 with 9 Axes>"
      ]
     },
     "metadata": {
      "needs_background": "light"
     },
     "output_type": "display_data"
    }
   ],
   "source": [
    "## Visualization\n",
    "plt.figure\n",
    "for i in range(9):\n",
    "    plt.subplot(3, 3, i + 1)\n",
    "    plt.imshow(x_train.iloc[i].values.reshape(28, 28), cmap='gray')\n",
    "    plt.title(y_train[i])\n",
    "    plt.axis('off')\n",
    "plt.show()"
   ]
  },
  {
   "cell_type": "code",
   "execution_count": 5,
   "id": "af81df55",
   "metadata": {},
   "outputs": [],
   "source": [
    "## Data preprocessing\n",
    "# Normalize using MinMaxScaler\n",
    "scaler = preprocessing.MinMaxScaler()\n",
    "transform_train = scaler.fit_transform(x_train)\n",
    "transform_test = scaler.fit_transform(x_test)\n",
    "x_train_scaled = pd.DataFrame(transform_train)\n",
    "x_test_scaled = pd.DataFrame(transform_test)"
   ]
  },
  {
   "cell_type": "code",
   "execution_count": 6,
   "id": "04743add",
   "metadata": {},
   "outputs": [
    {
     "name": "stdout",
     "output_type": "stream",
     "text": [
      "[ 0.          0.          0.          0.          0.          0.\n",
      "  0.7701807   8.20309112  8.13104191 10.92438293 13.05268743 11.80698193\n",
      "  9.34551326  6.98651288  5.80856594  3.17407151  2.41874664  5.50597463\n",
      "  5.50797386  7.42551326 12.67338716  9.44453672  4.82517493  1.76962707\n",
      "  1.54091503  1.53055413  0.59592997  0.        ]\n"
     ]
    }
   ],
   "source": [
    "# ## Euclidean distances between test and train\n",
    "def euclidean_distance(train, test):\n",
    "    return sum((train - test) ** 2)\n",
    "\n",
    "\n",
    "print(euclidean_distance(x_test_scaled.iloc[1].values.reshape(28, 28),\n",
    "                         x_train_scaled.iloc[1].values.reshape(28, 28)))"
   ]
  },
  {
   "cell_type": "code",
   "execution_count": 7,
   "id": "9c8f3e82",
   "metadata": {},
   "outputs": [
    {
     "data": {
      "text/plain": [
       "0.9691"
      ]
     },
     "execution_count": 7,
     "metadata": {},
     "output_type": "execute_result"
    }
   ],
   "source": [
    "## Creating various models and checking for accuracy\n",
    "neighbor_1 = knn(n_neighbors=1)\n",
    "neighbor_3 = knn(n_neighbors=3)\n",
    "neighbor_5 = knn(n_neighbors=5)\n",
    "model_1_neighbor = neighbor_1.fit(x_train_scaled, y_train)\n",
    "model_1_pred = neighbor_1.predict(x_test_scaled)\n",
    "model_1_accuracy = accuracy_score(y_test, model_1_pred)\n",
    "model_1_accuracy"
   ]
  },
  {
   "cell_type": "code",
   "execution_count": 8,
   "id": "68435d8f",
   "metadata": {},
   "outputs": [
    {
     "name": "stdout",
     "output_type": "stream",
     "text": [
      "0.9705\n"
     ]
    }
   ],
   "source": [
    "model_3_neighbor = neighbor_3.fit(x_train_scaled, y_train)\n",
    "model_3_pred = neighbor_3.predict(x_test_scaled)\n",
    "model_3_accuracy = accuracy_score(y_test, model_3_pred)\n",
    "model_3_accuracy"
   ]
  },
  {
   "cell_type": "code",
   "execution_count": 9,
   "id": "25beae79",
   "metadata": {},
   "outputs": [
    {
     "name": "stdout",
     "output_type": "stream",
     "text": [
      "0.9688\n"
     ]
    }
   ],
   "source": [
    "model_5_neighbor = neighbor_5.fit(x_train_scaled, y_train)\n",
    "model_5_pred = neighbor_5.predict(x_test_scaled)\n",
    "model_5_accuracy = accuracy_score(y_test, model_5_pred)\n",
    "model_5_accuracy"
   ]
  },
  {
   "cell_type": "code",
   "execution_count": 20,
   "id": "72c57682",
   "metadata": {},
   "outputs": [
    {
     "name": "stdout",
     "output_type": "stream",
     "text": [
      "              precision    recall  f1-score   support\n",
      "\n",
      "           0       0.97      0.99      0.98       980\n",
      "           1       0.96      1.00      0.98      1135\n",
      "           2       0.98      0.97      0.97      1032\n",
      "           3       0.96      0.97      0.96      1010\n",
      "           4       0.98      0.97      0.97       982\n",
      "           5       0.97      0.96      0.96       892\n",
      "           6       0.98      0.99      0.98       958\n",
      "           7       0.96      0.96      0.96      1028\n",
      "           8       0.99      0.94      0.96       974\n",
      "           9       0.96      0.96      0.96      1009\n",
      "\n",
      "    accuracy                           0.97     10000\n",
      "   macro avg       0.97      0.97      0.97     10000\n",
      "weighted avg       0.97      0.97      0.97     10000\n",
      "\n"
     ]
    }
   ],
   "source": [
    "## Classifcation report\n",
    "print(classification_report(y_test, model_3_pred))"
   ]
  },
  {
   "cell_type": "code",
   "execution_count": 11,
   "id": "945e5f28",
   "metadata": {},
   "outputs": [
    {
     "name": "stdout",
     "output_type": "stream",
     "text": [
      "(array([[4.59493332, 4.90273946, 5.07400311]]), array([[28882, 49160, 24612]], dtype=int64))\n"
     ]
    }
   ],
   "source": [
    "## Finding neighbors\n",
    "neighbors = model_3_neighbor.kneighbors(x_test_scaled.iloc[1].values.reshape(1,-1), n_neighbors=3)\n",
    "print(neighbors)"
   ]
  },
  {
   "cell_type": "code",
   "execution_count": 22,
   "id": "3f654a4b",
   "metadata": {},
   "outputs": [
    {
     "name": "stdout",
     "output_type": "stream",
     "text": [
      "[[ 974    1    1    0    0    1    2    1    0    0]\n",
      " [   0 1133    2    0    0    0    0    0    0    0]\n",
      " [  10    9  996    2    0    0    0   13    2    0]\n",
      " [   0    2    4  976    1   13    1    7    3    3]\n",
      " [   1    6    0    0  950    0    4    2    0   19]\n",
      " [   6    1    0   11    2  859    5    1    3    4]\n",
      " [   5    3    0    0    3    3  944    0    0    0]\n",
      " [   0   21    5    0    1    0    0  991    0   10]\n",
      " [   8    2    4   16    8   11    3    4  914    4]\n",
      " [   4    5    2    8    9    2    1    8    2  968]]\n"
     ]
    }
   ],
   "source": [
    "## Confusion matrix\n",
    "print(metrics.confusion_matrix(y_test, model_3_pred))"
   ]
  },
  {
   "cell_type": "code",
   "execution_count": 13,
   "id": "e05f5c7d",
   "metadata": {},
   "outputs": [],
   "source": [
    "## Predicting the number 1 with model\n",
    "y_train_1 = (y_train==1)\n",
    "y_train_1 = y_train_1.astype(int)\n",
    "y_test_1 = (y_test==1)\n",
    "y_test_1 = y_test_1.astype(int)\n",
    "\n",
    "fit_1 = model_3_neighbor.fit(x_train_scaled, y_train_1)"
   ]
  },
  {
   "cell_type": "code",
   "execution_count": 14,
   "id": "3db63480",
   "metadata": {},
   "outputs": [
    {
     "name": "stdout",
     "output_type": "stream",
     "text": [
      "[0]\n"
     ]
    }
   ],
   "source": [
    "#Predicting 1 from random number\n",
    "predict_1_random = model_3_neighbor.predict(x_test_scaled.iloc[5644].values.reshape(1, -1))\n",
    "print(predict_1_random)"
   ]
  },
  {
   "cell_type": "code",
   "execution_count": 15,
   "id": "e440dfca",
   "metadata": {},
   "outputs": [
    {
     "name": "stdout",
     "output_type": "stream",
     "text": [
      "0.9959\n"
     ]
    }
   ],
   "source": [
    "predict_1 = model_3_neighbor.predict(x_test_scaled)\n",
    "accuracy_1 = accuracy_score(y_test_1, predict_1)\n",
    "y_1_scores = model_3_neighbor.predict_proba(x_test_scaled)\n",
    "print(accuracy_1)"
   ]
  },
  {
   "cell_type": "code",
   "execution_count": 16,
   "id": "4e2db7d7",
   "metadata": {},
   "outputs": [
    {
     "name": "stdout",
     "output_type": "stream",
     "text": [
      "[[52993   265]\n",
      " [   46  6696]]\n"
     ]
    }
   ],
   "source": [
    "## Cross validation and confusion matrix for prediction of one\n",
    "y_train_1_cv = cross_val_predict(neighbor_3, x_train_scaled, y_train_1, cv=3)\n",
    "print(metrics.confusion_matrix(y_train_1, y_train_1_cv))"
   ]
  },
  {
   "cell_type": "code",
   "execution_count": 17,
   "id": "04148127",
   "metadata": {},
   "outputs": [
    {
     "data": {
      "image/png": "[encoded data removed]",
      "text/plain": [
       "<Figure size 432x288 with 1 Axes>"
      ]
     },
     "metadata": {
      "needs_background": "light"
     },
     "output_type": "display_data"
    }
   ],
   "source": [
    "#Generate AUC-ROC curve\n",
    "y_1_scores_reshape = y_1_scores[:, 1]\n",
    "knn_roc_auc = roc_auc_score(y_test_1, y_1_scores_reshape)\n",
    "fpr_knn, tpr_knn, thresholds_knn = roc_curve(y_test_1, y_1_scores_reshape)\n",
    "plt.figure()\n",
    "plt.plot(fpr_knn, tpr_knn, label='K-Nearest Neighbor (area = %0.2f)' % knn_roc_auc)\n",
    "plt.plot([0, 1], [0, 1],'r--')\n",
    "plt.xlim([0.0, 1.0])\n",
    "plt.ylim([0.0, 1.05])\n",
    "plt.xlabel('False Positive Rate')\n",
    "plt.ylabel('True Positive Rate')\n",
    "plt.title('ROC Curve for Predicting the number 1')\n",
    "plt.legend(loc=\"lower right\")\n",
    "plt.show()"
   ]
  },
  {
   "cell_type": "code",
   "execution_count": 18,
   "id": "5846e00f",
   "metadata": {},
   "outputs": [
    {
     "name": "stdout",
     "output_type": "stream",
     "text": [
      "0.0295\n"
     ]
    }
   ],
   "source": [
    "## Calculate error\n",
    "error_rate = np.mean(model_3_pred != y_test)\n",
    "print(error_rate)"
   ]
  }
 ],
 "metadata": {
  "kernelspec": {
   "display_name": "Python 3",
   "language": "python",
   "name": "python3"
  },
  "language_info": {
   "codemirror_mode": {
    "name": "ipython",
    "version": 3
   },
   "file_extension": ".py",
   "mimetype": "text/x-python",
   "name": "python",
   "nbconvert_exporter": "python",
   "pygments_lexer": "ipython3",
   "version": "3.8.8"
  }
 },
 "nbformat": 4,
 "nbformat_minor": 5
}
