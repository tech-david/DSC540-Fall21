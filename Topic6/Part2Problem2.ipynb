{
 "cells": [
  {
   "cell_type": "code",
   "execution_count": null,
   "id": "4fe6089f",
   "metadata": {},
   "outputs": [],
   "source": [
    "import matplotlib.pyplot as plt\n",
    "import numpy as np\n",
    "from fuzzylab import *"
   ]
  },
  {
   "cell_type": "code",
   "execution_count": null,
   "id": "132a878a",
   "metadata": {},
   "outputs": [],
   "source": [
    "training_x1 = np.linspace(1, 6, 50)\n",
    "training_x2 = np.linspace(1, 6, 50)\n",
    "training_x3 = np.linspace(1, 6, 50)\n",
    "testing_x1 = np.linspace(1.5, 5.5, 50)\n",
    "testing_x2 = np.linspace(1.5, 5.5, 50)\n",
    "testing_x3 = np.linspace(1.5, 5.5, 50)\n",
    "\n",
    "membership_tr_x1 = trimf(training_x1, [1, 2, 3])\n",
    "membership_tr_x2 = trapmf(training_x2, [2, 3, 4, 6])\n",
    "membership_tr_x3 = trimf(training_x3, [4, 5, 6])\n",
    "membership_ts_x1 = trimf(testing_x1, [1.5, 2.5, 3.5])\n",
    "membership_ts_x2 = trapmf(testing_x2, [2.5, 3, 4, 5.5])\n",
    "membership_ts_x3 = trimf(testing_x3, [3, 4.5, 5.5])"
   ]
  },
  {
   "cell_type": "code",
   "execution_count": null,
   "id": "1b30ac2d",
   "metadata": {},
   "outputs": [],
   "source": [
    "plt.plot(training_x1, membership_tr_x1)\n",
    "plt.plot(training_x2, membership_tr_x2)\n",
    "plt.plot(training_x3, membership_tr_x3)\n",
    "plt.grid(True)\n",
    "plt.show()"
   ]
  },
  {
   "cell_type": "code",
   "execution_count": null,
   "id": "5107d2ad",
   "metadata": {},
   "outputs": [],
   "source": [
    "plt.plot(testing_x1, membership_ts_x1)\n",
    "plt.plot(testing_x2, membership_ts_x2)\n",
    "plt.plot(testing_x3, membership_ts_x3)\n",
    "plt.grid(True)\n",
    "plt.show()"
   ]
  }
 ],
 "metadata": {
  "kernelspec": {
   "display_name": "Python 3",
   "language": "python",
   "name": "python3"
  },
  "language_info": {
   "codemirror_mode": {
    "name": "ipython",
    "version": 3
   },
   "file_extension": ".py",
   "mimetype": "text/x-python",
   "name": "python",
   "nbconvert_exporter": "python",
   "pygments_lexer": "ipython3",
   "version": "3.8.8"
  }
 },
 "nbformat": 4,
 "nbformat_minor": 5
}
