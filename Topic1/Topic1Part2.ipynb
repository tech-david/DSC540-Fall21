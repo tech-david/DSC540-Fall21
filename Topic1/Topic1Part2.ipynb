{
 "cells": [
  {
   "cell_type": "code",
   "execution_count": 21,
   "id": "b287d69a",
   "metadata": {},
   "outputs": [],
   "source": [
    "import math\n",
    "import numpy as np\n",
    "import pandas as pd\n",
    "import matplotlib.pyplot as plt\n",
    "import statsmodels.api as sm\n",
    "from sklearn.model_selection import train_test_split\n",
    "from sklearn import linear_model\n",
    "from sklearn.metrics import mean_absolute_error as mae\n",
    "from scipy import stats\n",
    "from statsmodels.stats.outliers_influence import variance_inflation_factor\n",
    "from sklearn.metrics import mean_squared_error, r2_score\n",
    "from yellowbrick.regressor import ResidualsPlot\n",
    "%matplotlib inline"
   ]
  },
  {
   "cell_type": "code",
   "execution_count": 22,
   "id": "0d6eeb4f",
   "metadata": {},
   "outputs": [],
   "source": [
    "# Load data\n",
    "real_estate_data = pd.read_csv(\"C:/Users/David/OneDrive - Grand Canyon University/DSC540/DataSets/housing.csv\")"
   ]
  },
  {
   "cell_type": "code",
   "execution_count": 23,
   "id": "19973ac7",
   "metadata": {},
   "outputs": [],
   "source": [
    "## Replacing missing total bedrooms with an average\n",
    "total_bedrooms_mean = real_estate_data['total_bedrooms'].mean()\n",
    "total_bedrooms_mean = math.ceil(total_bedrooms_mean)\n",
    "real_estate_data['total_bedrooms'] = real_estate_data['total_bedrooms'].fillna(total_bedrooms_mean)"
   ]
  },
  {
   "cell_type": "code",
   "execution_count": 24,
   "id": "ec424143",
   "metadata": {},
   "outputs": [],
   "source": [
    "## Getting average bedrooms and rooms from household\n",
    "real_estate_data['avg_bedrooms'] = real_estate_data['total_bedrooms']/real_estate_data['households']\n",
    "real_estate_data['avg_rooms'] = real_estate_data['total_rooms']/real_estate_data['households']"
   ]
  },
  {
   "cell_type": "code",
   "execution_count": 25,
   "id": "f474852f",
   "metadata": {},
   "outputs": [],
   "source": [
    "## Create numerical categories for ocean proxmitiy values\n",
    "ocean_dict = {\"ocean_proximity\": {\"NEAR BAY\": 1,\n",
    "                                 \"<1H OCEAN\": 2,\n",
    "                                 \"INLAND\": 3,\n",
    "                                 \"NEAR OCEAN\": 4,\n",
    "                                 \"ISLAND\": 5}}\n",
    "real_estate_data.replace(ocean_dict,\n",
    "                         inplace=True)"
   ]
  },
  {
   "cell_type": "code",
   "execution_count": 26,
   "id": "965c2bc9",
   "metadata": {},
   "outputs": [
    {
     "data": {
      "text/html": [
       "<div>\n",
       "<style scoped>\n",
       "    .dataframe tbody tr th:only-of-type {\n",
       "        vertical-align: middle;\n",
       "    }\n",
       "\n",
       "    .dataframe tbody tr th {\n",
       "        vertical-align: top;\n",
       "    }\n",
       "\n",
       "    .dataframe thead th {\n",
       "        text-align: right;\n",
       "    }\n",
       "</style>\n",
       "<table border=\"1\" class=\"dataframe\">\n",
       "  <thead>\n",
       "    <tr style=\"text-align: right;\">\n",
       "      <th></th>\n",
       "      <th>longitude</th>\n",
       "      <th>latitude</th>\n",
       "      <th>housing_median_age</th>\n",
       "      <th>total_rooms</th>\n",
       "      <th>total_bedrooms</th>\n",
       "      <th>population</th>\n",
       "      <th>households</th>\n",
       "      <th>median_income</th>\n",
       "      <th>median_house_value</th>\n",
       "      <th>ocean_proximity</th>\n",
       "      <th>avg_bedrooms</th>\n",
       "      <th>avg_rooms</th>\n",
       "    </tr>\n",
       "  </thead>\n",
       "  <tbody>\n",
       "    <tr>\n",
       "      <th>0</th>\n",
       "      <td>-122.23</td>\n",
       "      <td>37.88</td>\n",
       "      <td>41.0</td>\n",
       "      <td>880.0</td>\n",
       "      <td>129.0</td>\n",
       "      <td>322.0</td>\n",
       "      <td>126.0</td>\n",
       "      <td>8.3252</td>\n",
       "      <td>452600.0</td>\n",
       "      <td>1</td>\n",
       "      <td>1.023810</td>\n",
       "      <td>6.984127</td>\n",
       "    </tr>\n",
       "    <tr>\n",
       "      <th>1</th>\n",
       "      <td>-122.22</td>\n",
       "      <td>37.86</td>\n",
       "      <td>21.0</td>\n",
       "      <td>7099.0</td>\n",
       "      <td>1106.0</td>\n",
       "      <td>2401.0</td>\n",
       "      <td>1138.0</td>\n",
       "      <td>8.3014</td>\n",
       "      <td>358500.0</td>\n",
       "      <td>1</td>\n",
       "      <td>0.971880</td>\n",
       "      <td>6.238137</td>\n",
       "    </tr>\n",
       "    <tr>\n",
       "      <th>2</th>\n",
       "      <td>-122.24</td>\n",
       "      <td>37.85</td>\n",
       "      <td>52.0</td>\n",
       "      <td>1467.0</td>\n",
       "      <td>190.0</td>\n",
       "      <td>496.0</td>\n",
       "      <td>177.0</td>\n",
       "      <td>7.2574</td>\n",
       "      <td>352100.0</td>\n",
       "      <td>1</td>\n",
       "      <td>1.073446</td>\n",
       "      <td>8.288136</td>\n",
       "    </tr>\n",
       "    <tr>\n",
       "      <th>3</th>\n",
       "      <td>-122.25</td>\n",
       "      <td>37.85</td>\n",
       "      <td>52.0</td>\n",
       "      <td>1274.0</td>\n",
       "      <td>235.0</td>\n",
       "      <td>558.0</td>\n",
       "      <td>219.0</td>\n",
       "      <td>5.6431</td>\n",
       "      <td>341300.0</td>\n",
       "      <td>1</td>\n",
       "      <td>1.073059</td>\n",
       "      <td>5.817352</td>\n",
       "    </tr>\n",
       "    <tr>\n",
       "      <th>4</th>\n",
       "      <td>-122.25</td>\n",
       "      <td>37.85</td>\n",
       "      <td>52.0</td>\n",
       "      <td>1627.0</td>\n",
       "      <td>280.0</td>\n",
       "      <td>565.0</td>\n",
       "      <td>259.0</td>\n",
       "      <td>3.8462</td>\n",
       "      <td>342200.0</td>\n",
       "      <td>1</td>\n",
       "      <td>1.081081</td>\n",
       "      <td>6.281853</td>\n",
       "    </tr>\n",
       "    <tr>\n",
       "      <th>...</th>\n",
       "      <td>...</td>\n",
       "      <td>...</td>\n",
       "      <td>...</td>\n",
       "      <td>...</td>\n",
       "      <td>...</td>\n",
       "      <td>...</td>\n",
       "      <td>...</td>\n",
       "      <td>...</td>\n",
       "      <td>...</td>\n",
       "      <td>...</td>\n",
       "      <td>...</td>\n",
       "      <td>...</td>\n",
       "    </tr>\n",
       "    <tr>\n",
       "      <th>20635</th>\n",
       "      <td>-121.09</td>\n",
       "      <td>39.48</td>\n",
       "      <td>25.0</td>\n",
       "      <td>1665.0</td>\n",
       "      <td>374.0</td>\n",
       "      <td>845.0</td>\n",
       "      <td>330.0</td>\n",
       "      <td>1.5603</td>\n",
       "      <td>78100.0</td>\n",
       "      <td>3</td>\n",
       "      <td>1.133333</td>\n",
       "      <td>5.045455</td>\n",
       "    </tr>\n",
       "    <tr>\n",
       "      <th>20636</th>\n",
       "      <td>-121.21</td>\n",
       "      <td>39.49</td>\n",
       "      <td>18.0</td>\n",
       "      <td>697.0</td>\n",
       "      <td>150.0</td>\n",
       "      <td>356.0</td>\n",
       "      <td>114.0</td>\n",
       "      <td>2.5568</td>\n",
       "      <td>77100.0</td>\n",
       "      <td>3</td>\n",
       "      <td>1.315789</td>\n",
       "      <td>6.114035</td>\n",
       "    </tr>\n",
       "    <tr>\n",
       "      <th>20637</th>\n",
       "      <td>-121.22</td>\n",
       "      <td>39.43</td>\n",
       "      <td>17.0</td>\n",
       "      <td>2254.0</td>\n",
       "      <td>485.0</td>\n",
       "      <td>1007.0</td>\n",
       "      <td>433.0</td>\n",
       "      <td>1.7000</td>\n",
       "      <td>92300.0</td>\n",
       "      <td>3</td>\n",
       "      <td>1.120092</td>\n",
       "      <td>5.205543</td>\n",
       "    </tr>\n",
       "    <tr>\n",
       "      <th>20638</th>\n",
       "      <td>-121.32</td>\n",
       "      <td>39.43</td>\n",
       "      <td>18.0</td>\n",
       "      <td>1860.0</td>\n",
       "      <td>409.0</td>\n",
       "      <td>741.0</td>\n",
       "      <td>349.0</td>\n",
       "      <td>1.8672</td>\n",
       "      <td>84700.0</td>\n",
       "      <td>3</td>\n",
       "      <td>1.171920</td>\n",
       "      <td>5.329513</td>\n",
       "    </tr>\n",
       "    <tr>\n",
       "      <th>20639</th>\n",
       "      <td>-121.24</td>\n",
       "      <td>39.37</td>\n",
       "      <td>16.0</td>\n",
       "      <td>2785.0</td>\n",
       "      <td>616.0</td>\n",
       "      <td>1387.0</td>\n",
       "      <td>530.0</td>\n",
       "      <td>2.3886</td>\n",
       "      <td>89400.0</td>\n",
       "      <td>3</td>\n",
       "      <td>1.162264</td>\n",
       "      <td>5.254717</td>\n",
       "    </tr>\n",
       "  </tbody>\n",
       "</table>\n",
       "<p>20596 rows × 12 columns</p>\n",
       "</div>"
      ],
      "text/plain": [
       "       longitude  latitude  housing_median_age  total_rooms  total_bedrooms  \\\n",
       "0        -122.23     37.88                41.0        880.0           129.0   \n",
       "1        -122.22     37.86                21.0       7099.0          1106.0   \n",
       "2        -122.24     37.85                52.0       1467.0           190.0   \n",
       "3        -122.25     37.85                52.0       1274.0           235.0   \n",
       "4        -122.25     37.85                52.0       1627.0           280.0   \n",
       "...          ...       ...                 ...          ...             ...   \n",
       "20635    -121.09     39.48                25.0       1665.0           374.0   \n",
       "20636    -121.21     39.49                18.0        697.0           150.0   \n",
       "20637    -121.22     39.43                17.0       2254.0           485.0   \n",
       "20638    -121.32     39.43                18.0       1860.0           409.0   \n",
       "20639    -121.24     39.37                16.0       2785.0           616.0   \n",
       "\n",
       "       population  households  median_income  median_house_value  \\\n",
       "0           322.0       126.0         8.3252            452600.0   \n",
       "1          2401.0      1138.0         8.3014            358500.0   \n",
       "2           496.0       177.0         7.2574            352100.0   \n",
       "3           558.0       219.0         5.6431            341300.0   \n",
       "4           565.0       259.0         3.8462            342200.0   \n",
       "...           ...         ...            ...                 ...   \n",
       "20635       845.0       330.0         1.5603             78100.0   \n",
       "20636       356.0       114.0         2.5568             77100.0   \n",
       "20637      1007.0       433.0         1.7000             92300.0   \n",
       "20638       741.0       349.0         1.8672             84700.0   \n",
       "20639      1387.0       530.0         2.3886             89400.0   \n",
       "\n",
       "       ocean_proximity  avg_bedrooms  avg_rooms  \n",
       "0                    1      1.023810   6.984127  \n",
       "1                    1      0.971880   6.238137  \n",
       "2                    1      1.073446   8.288136  \n",
       "3                    1      1.073059   5.817352  \n",
       "4                    1      1.081081   6.281853  \n",
       "...                ...           ...        ...  \n",
       "20635                3      1.133333   5.045455  \n",
       "20636                3      1.315789   6.114035  \n",
       "20637                3      1.120092   5.205543  \n",
       "20638                3      1.171920   5.329513  \n",
       "20639                3      1.162264   5.254717  \n",
       "\n",
       "[20596 rows x 12 columns]"
      ]
     },
     "execution_count": 26,
     "metadata": {},
     "output_type": "execute_result"
    }
   ],
   "source": [
    "## remove outliers\n",
    "real_estate_data[(np.abs(stats.zscore(real_estate_data)) < 10).all(axis=1)]"
   ]
  },
  {
   "cell_type": "code",
   "execution_count": 27,
   "id": "92d9c0d3",
   "metadata": {},
   "outputs": [
    {
     "name": "stderr",
     "output_type": "stream",
     "text": [
      "*c* argument looks like a single numeric RGB or RGBA sequence, which should be avoided as value-mapping will have precedence in case its length matches with *x* & *y*.  Please use the *color* keyword-argument or provide a 2-D array with a single row if you intend to specify the same RGB or RGBA value for all points.\n"
     ]
    },
    {
     "data": {
      "image/png": "[encoded data removed]",
      "text/plain": [
       "<Figure size 432x288 with 1 Axes>"
      ]
     },
     "metadata": {
      "needs_background": "light"
     },
     "output_type": "display_data"
    }
   ],
   "source": [
    "## Scatter plot\n",
    "real_estate_data.plot.scatter(x = 'avg_bedrooms', y = 'median_house_value')\n",
    "plt.show()"
   ]
  },
  {
   "cell_type": "code",
   "execution_count": 28,
   "id": "57a059db",
   "metadata": {},
   "outputs": [],
   "source": [
    "## Ocean proximity to value\n",
    "real_estate_data_prox_1 = real_estate_data[real_estate_data.ocean_proximity == 1]['median_house_value']\n",
    "real_estate_data_prox_2 = real_estate_data[real_estate_data.ocean_proximity == 2]['median_house_value']\n",
    "real_estate_data_prox_3 = real_estate_data[real_estate_data.ocean_proximity == 3]['median_house_value']\n",
    "real_estate_data_prox_4 = real_estate_data[real_estate_data.ocean_proximity == 4]['median_house_value']\n",
    "real_estate_data_prox_5 = real_estate_data[real_estate_data.ocean_proximity == 5]['median_house_value']"
   ]
  },
  {
   "cell_type": "code",
   "execution_count": 29,
   "id": "b9506cd1",
   "metadata": {},
   "outputs": [
    {
     "data": {
      "image/png": "[encoded data removed]",
      "text/plain": [
       "<Figure size 432x288 with 1 Axes>"
      ]
     },
     "metadata": {
      "needs_background": "light"
     },
     "output_type": "display_data"
    }
   ],
   "source": [
    "## Histogram \n",
    "plt.hist([real_estate_data_prox_1,\n",
    "          real_estate_data_prox_2,\n",
    "          real_estate_data_prox_3,\n",
    "          real_estate_data_prox_4,\n",
    "          real_estate_data_prox_5],\n",
    "         bins = 10,\n",
    "         stacked = True)\n",
    "plt.legend(['Near Bay = 1',\n",
    "            '<1H Ocean = 2',\n",
    "            'Inland = 3',\n",
    "            'Near Ocean = 4',\n",
    "            'Island = 5'])\n",
    "plt.title('Histogram of Value with Ocean Proximity Overlay')\n",
    "plt.xlabel('Value');\n",
    "plt.ylabel('Frequency');\n",
    "plt.show();"
   ]
  },
  {
   "cell_type": "code",
   "execution_count": 30,
   "id": "72cd9257",
   "metadata": {},
   "outputs": [
    {
     "data": {
      "image/png": "[encoded data removed]",
      "text/plain": [
       "<Figure size 432x288 with 1 Axes>"
      ]
     },
     "metadata": {
      "needs_background": "light"
     },
     "output_type": "display_data"
    }
   ],
   "source": [
    "## Normalized ocean proximity to value\n",
    "(n, bins, patches) = plt.hist([real_estate_data_prox_1,\n",
    "                               real_estate_data_prox_2,\n",
    "                               real_estate_data_prox_3,\n",
    "                               real_estate_data_prox_4,\n",
    "                               real_estate_data_prox_5],\n",
    "                               bins=10,\n",
    "                               stacked=True,\n",
    "                               density=True)\n",
    "\n",
    "## Creating table from variable n created in prior command\n",
    "n_table = np.column_stack((n[0],\n",
    "                          n[1],\n",
    "                          n[2],\n",
    "                          n[3],\n",
    "                          n[4]))\n",
    "\n",
    "## Normalizing the previously created table\n",
    "n_norm = n_table / n_table.sum(axis=1)[:, None]\n",
    "\n",
    "## Creating custom bins from bins variable created in preivous command\n",
    "the_bins = np.column_stack((bins[0:10], bins[1:11]))\n",
    "p1 = plt.bar(x=the_bins[:, 0], height=n_norm[:, 0], width=the_bins[:, 1] - the_bins[:, 0])\n",
    "p2 = plt.bar(x=the_bins[:, 0], height=n_norm[:, 1], width=the_bins[:, 1] - the_bins[:, 0], bottom=n_norm[:, 0])\n",
    "p3 = plt.bar(x=the_bins[:, 0], height=n_norm[:, 2], width=the_bins[:, 1] - the_bins[:, 0], bottom=n_norm[:, 1])\n",
    "p4 = plt.bar(x=the_bins[:, 0], height=n_norm[:, 3], width=the_bins[:, 1] - the_bins[:, 0], bottom=n_norm[:, 2])\n",
    "p5 = plt.bar(x=the_bins[:, 0], height=n_norm[:, 4], width=the_bins[:, 1] - the_bins[:, 0], bottom=n_norm[:, 3])\n",
    "\n",
    "plt.legend(['Near Bay = 1',\n",
    "            '<1H Ocean = 2',\n",
    "            'Inland = 3',\n",
    "            'Near Ocean = 4',\n",
    "            'Island = 5'])\n",
    "plt.title('Normalized Histogram of Value with Ocean Proximity Overlay')\n",
    "plt.xlabel('Value');\n",
    "plt.ylabel('Frequency');\n",
    "plt.show();\n"
   ]
  },
  {
   "cell_type": "code",
   "execution_count": 31,
   "id": "bf631c89",
   "metadata": {},
   "outputs": [],
   "source": [
    "## Getting X and y\n",
    "X = pd.DataFrame(real_estate_data[['housing_median_age',\n",
    "                                   'population',\n",
    "                                   'median_income',\n",
    "                                   'ocean_proximity',\n",
    "                                   'avg_rooms']])\n",
    "y = pd.DataFrame(real_estate_data[['median_house_value']])"
   ]
  },
  {
   "cell_type": "code",
   "execution_count": 32,
   "id": "c4034904",
   "metadata": {},
   "outputs": [
    {
     "data": {
      "text/html": [
       "<div>\n",
       "<style scoped>\n",
       "    .dataframe tbody tr th:only-of-type {\n",
       "        vertical-align: middle;\n",
       "    }\n",
       "\n",
       "    .dataframe tbody tr th {\n",
       "        vertical-align: top;\n",
       "    }\n",
       "\n",
       "    .dataframe thead th {\n",
       "        text-align: right;\n",
       "    }\n",
       "</style>\n",
       "<table border=\"1\" class=\"dataframe\">\n",
       "  <thead>\n",
       "    <tr style=\"text-align: right;\">\n",
       "      <th></th>\n",
       "      <th>VIF Factor</th>\n",
       "      <th>features</th>\n",
       "    </tr>\n",
       "  </thead>\n",
       "  <tbody>\n",
       "    <tr>\n",
       "      <th>0</th>\n",
       "      <td>3.9</td>\n",
       "      <td>housing_median_age</td>\n",
       "    </tr>\n",
       "    <tr>\n",
       "      <th>1</th>\n",
       "      <td>2.3</td>\n",
       "      <td>population</td>\n",
       "    </tr>\n",
       "    <tr>\n",
       "      <th>2</th>\n",
       "      <td>5.1</td>\n",
       "      <td>median_income</td>\n",
       "    </tr>\n",
       "    <tr>\n",
       "      <th>3</th>\n",
       "      <td>5.9</td>\n",
       "      <td>ocean_proximity</td>\n",
       "    </tr>\n",
       "    <tr>\n",
       "      <th>4</th>\n",
       "      <td>6.1</td>\n",
       "      <td>avg_rooms</td>\n",
       "    </tr>\n",
       "  </tbody>\n",
       "</table>\n",
       "</div>"
      ],
      "text/plain": [
       "   VIF Factor            features\n",
       "0         3.9  housing_median_age\n",
       "1         2.3          population\n",
       "2         5.1       median_income\n",
       "3         5.9     ocean_proximity\n",
       "4         6.1           avg_rooms"
      ]
     },
     "execution_count": 32,
     "metadata": {},
     "output_type": "execute_result"
    }
   ],
   "source": [
    "## Finding signs of multicollinearity\n",
    "vif = pd.DataFrame()\n",
    "vif[\"VIF Factor\"] = [variance_inflation_factor(X.values, i) for i in range(X.shape[1])]\n",
    "vif[\"features\"] = X.columns\n",
    "vif.round(1)"
   ]
  },
  {
   "cell_type": "code",
   "execution_count": 33,
   "id": "99d57cd1",
   "metadata": {},
   "outputs": [
    {
     "name": "stdout",
     "output_type": "stream",
     "text": [
      "       const  housing_median_age  population  median_income  ocean_proximity  \\\n",
      "6466     1.0                34.0      1542.0         4.6211                3   \n",
      "6522     1.0                27.0      3481.0         2.4875                2   \n",
      "5163     1.0                39.0      1463.0         1.5294                2   \n",
      "13135    1.0                21.0       988.0         4.3500                3   \n",
      "1474     1.0                26.0      1174.0         2.9861                1   \n",
      "\n",
      "       avg_rooms  \n",
      "6466    5.525532  \n",
      "6522    3.457300  \n",
      "5163    3.651226  \n",
      "13135   5.936877  \n",
      "1474    4.310646  \n"
     ]
    }
   ],
   "source": [
    "## Adding constant to X\n",
    "X = sm.add_constant(X)\n",
    "\n",
    "\n",
    "## Partitioning the dataset\n",
    "X_train, X_test, y_train, y_test = train_test_split(X,\n",
    "                                                    y,\n",
    "                                                    test_size=0.25)\n",
    "print(X_train.head())"
   ]
  },
  {
   "cell_type": "code",
   "execution_count": 34,
   "id": "26961afb",
   "metadata": {},
   "outputs": [
    {
     "name": "stdout",
     "output_type": "stream",
     "text": [
      "Predictions:\n",
      " [[175164.25474755]\n",
      " [144860.69278363]\n",
      " [186665.87477622]\n",
      " [119863.18034396]\n",
      " [242068.58110946]]\n",
      "Coefficients: \n",
      " [[ 0.00000000e+00  1.52415218e+03  1.44158073e+00  4.36771874e+04\n",
      "  -1.10224831e+04 -3.16992811e+03]]\n",
      "Mean squared error: 6239608595.33\n",
      "Coefficient of determination: 0.53\n"
     ]
    },
    {
     "data": {
      "image/png": "[encoded data removed]",
      "text/plain": [
       "<Figure size 432x288 with 2 Axes>"
      ]
     },
     "metadata": {
      "needs_background": "light"
     },
     "output_type": "display_data"
    },
    {
     "data": {
      "text/plain": [
       "<AxesSubplot:title={'center':'Residuals for LinearRegression Model'}, xlabel='Predicted Value', ylabel='Residuals'>"
      ]
     },
     "execution_count": 34,
     "metadata": {},
     "output_type": "execute_result"
    }
   ],
   "source": [
    "## Creating model using scikits LinearRegression()\n",
    "lm = linear_model.LinearRegression()\n",
    "lm.fit(X_train, y_train)\n",
    "predictions = lm.predict(X_test)\n",
    "print(\"Predictions:\\n\", predictions[0:5])\n",
    "print(\"Coefficients: \\n\", lm.coef_)\n",
    "print(\"Mean squared error of Linear Regression: %.2f\" % mean_squared_error(y_test, predictions))\n",
    "print(\"R2 score for Linear Regression: %.2f\" % r2_score(y_test, predictions))\n",
    "\n",
    "\n",
    "res_plot = ResidualsPlot(lm)\n",
    "\n",
    "res_plot.fit(X_train, y_train)  \n",
    "res_plot.score(X_test, y_test)  \n",
    "res_plot.show() "
   ]
  },
  {
   "cell_type": "code",
   "execution_count": 35,
   "id": "5db365f2",
   "metadata": {},
   "outputs": [
    {
     "data": {
      "text/html": [
       "<table class=\"simpletable\">\n",
       "<caption>OLS Regression Results</caption>\n",
       "<tr>\n",
       "  <th>Dep. Variable:</th>    <td>median_house_value</td> <th>  R-squared:         </th> <td>   0.534</td> \n",
       "</tr>\n",
       "<tr>\n",
       "  <th>Model:</th>                    <td>OLS</td>        <th>  Adj. R-squared:    </th> <td>   0.534</td> \n",
       "</tr>\n",
       "<tr>\n",
       "  <th>Method:</th>              <td>Least Squares</td>   <th>  F-statistic:       </th> <td>   1181.</td> \n",
       "</tr>\n",
       "<tr>\n",
       "  <th>Date:</th>              <td>Wed, 03 Nov 2021</td>  <th>  Prob (F-statistic):</th>  <td>  0.00</td>  \n",
       "</tr>\n",
       "<tr>\n",
       "  <th>Time:</th>                  <td>20:27:47</td>      <th>  Log-Likelihood:    </th> <td> -65487.</td> \n",
       "</tr>\n",
       "<tr>\n",
       "  <th>No. Observations:</th>       <td>  5160</td>       <th>  AIC:               </th> <td>1.310e+05</td>\n",
       "</tr>\n",
       "<tr>\n",
       "  <th>Df Residuals:</th>           <td>  5154</td>       <th>  BIC:               </th> <td>1.310e+05</td>\n",
       "</tr>\n",
       "<tr>\n",
       "  <th>Df Model:</th>               <td>     5</td>       <th>                     </th>     <td> </td>    \n",
       "</tr>\n",
       "<tr>\n",
       "  <th>Covariance Type:</th>       <td>nonrobust</td>     <th>                     </th>     <td> </td>    \n",
       "</tr>\n",
       "</table>\n",
       "<table class=\"simpletable\">\n",
       "<tr>\n",
       "           <td></td>             <th>coef</th>     <th>std err</th>      <th>t</th>      <th>P>|t|</th>  <th>[0.025</th>    <th>0.975]</th>  \n",
       "</tr>\n",
       "<tr>\n",
       "  <th>const</th>              <td> 1.448e+04</td> <td> 6415.561</td> <td>    2.257</td> <td> 0.024</td> <td> 1905.309</td> <td> 2.71e+04</td>\n",
       "</tr>\n",
       "<tr>\n",
       "  <th>housing_median_age</th> <td> 1727.1017</td> <td>   93.727</td> <td>   18.427</td> <td> 0.000</td> <td> 1543.357</td> <td> 1910.847</td>\n",
       "</tr>\n",
       "<tr>\n",
       "  <th>population</th>         <td>    3.2659</td> <td>    1.075</td> <td>    3.039</td> <td> 0.002</td> <td>    1.159</td> <td>    5.372</td>\n",
       "</tr>\n",
       "<tr>\n",
       "  <th>median_income</th>      <td> 4.289e+04</td> <td>  606.733</td> <td>   70.692</td> <td> 0.000</td> <td> 4.17e+04</td> <td> 4.41e+04</td>\n",
       "</tr>\n",
       "<tr>\n",
       "  <th>ocean_proximity</th>    <td>-9827.8613</td> <td> 1327.589</td> <td>   -7.403</td> <td> 0.000</td> <td>-1.24e+04</td> <td>-7225.223</td>\n",
       "</tr>\n",
       "<tr>\n",
       "  <th>avg_rooms</th>          <td> -428.2285</td> <td>  413.087</td> <td>   -1.037</td> <td> 0.300</td> <td>-1238.054</td> <td>  381.597</td>\n",
       "</tr>\n",
       "</table>\n",
       "<table class=\"simpletable\">\n",
       "<tr>\n",
       "  <th>Omnibus:</th>       <td>926.764</td> <th>  Durbin-Watson:     </th> <td>   1.964</td>\n",
       "</tr>\n",
       "<tr>\n",
       "  <th>Prob(Omnibus):</th> <td> 0.000</td>  <th>  Jarque-Bera (JB):  </th> <td>1904.229</td>\n",
       "</tr>\n",
       "<tr>\n",
       "  <th>Skew:</th>          <td> 1.067</td>  <th>  Prob(JB):          </th> <td>    0.00</td>\n",
       "</tr>\n",
       "<tr>\n",
       "  <th>Kurtosis:</th>      <td> 5.074</td>  <th>  Cond. No.          </th> <td>1.05e+04</td>\n",
       "</tr>\n",
       "</table><br/><br/>Notes:<br/>[1] Standard Errors assume that the covariance matrix of the errors is correctly specified.<br/>[2] The condition number is large, 1.05e+04. This might indicate that there are<br/>strong multicollinearity or other numerical problems."
      ],
      "text/plain": [
       "<class 'statsmodels.iolib.summary.Summary'>\n",
       "\"\"\"\n",
       "                            OLS Regression Results                            \n",
       "==============================================================================\n",
       "Dep. Variable:     median_house_value   R-squared:                       0.534\n",
       "Model:                            OLS   Adj. R-squared:                  0.534\n",
       "Method:                 Least Squares   F-statistic:                     1181.\n",
       "Date:                Wed, 03 Nov 2021   Prob (F-statistic):               0.00\n",
       "Time:                        20:27:47   Log-Likelihood:                -65487.\n",
       "No. Observations:                5160   AIC:                         1.310e+05\n",
       "Df Residuals:                    5154   BIC:                         1.310e+05\n",
       "Df Model:                           5                                         \n",
       "Covariance Type:            nonrobust                                         \n",
       "======================================================================================\n",
       "                         coef    std err          t      P>|t|      [0.025      0.975]\n",
       "--------------------------------------------------------------------------------------\n",
       "const               1.448e+04   6415.561      2.257      0.024    1905.309    2.71e+04\n",
       "housing_median_age  1727.1017     93.727     18.427      0.000    1543.357    1910.847\n",
       "population             3.2659      1.075      3.039      0.002       1.159       5.372\n",
       "median_income       4.289e+04    606.733     70.692      0.000    4.17e+04    4.41e+04\n",
       "ocean_proximity    -9827.8613   1327.589     -7.403      0.000   -1.24e+04   -7225.223\n",
       "avg_rooms           -428.2285    413.087     -1.037      0.300   -1238.054     381.597\n",
       "==============================================================================\n",
       "Omnibus:                      926.764   Durbin-Watson:                   1.964\n",
       "Prob(Omnibus):                  0.000   Jarque-Bera (JB):             1904.229\n",
       "Skew:                           1.067   Prob(JB):                         0.00\n",
       "Kurtosis:                       5.074   Cond. No.                     1.05e+04\n",
       "==============================================================================\n",
       "\n",
       "Notes:\n",
       "[1] Standard Errors assume that the covariance matrix of the errors is correctly specified.\n",
       "[2] The condition number is large, 1.05e+04. This might indicate that there are\n",
       "strong multicollinearity or other numerical problems.\n",
       "\"\"\""
      ]
     },
     "execution_count": 35,
     "metadata": {},
     "output_type": "execute_result"
    }
   ],
   "source": [
    "## Creating model using statsmodel using OLS()\n",
    "model_train = sm.OLS(y_train,\n",
    "                     X_train).fit()\n",
    "model_train.summary()\n",
    "\n",
    "model_test = sm.OLS(y_test,\n",
    "                     X_test).fit()\n",
    "model_test.summary()"
   ]
  },
  {
   "cell_type": "code",
   "execution_count": 36,
   "id": "0ed7ca82",
   "metadata": {},
   "outputs": [
    {
     "data": {
      "text/html": [
       "<table class=\"simpletable\">\n",
       "<caption>OLS Regression Results</caption>\n",
       "<tr>\n",
       "  <th>Dep. Variable:</th>    <td>median_house_value</td> <th>  R-squared:         </th>  <td>   0.514</td>  \n",
       "</tr>\n",
       "<tr>\n",
       "  <th>Model:</th>                    <td>OLS</td>        <th>  Adj. R-squared:    </th>  <td>   0.514</td>  \n",
       "</tr>\n",
       "<tr>\n",
       "  <th>Method:</th>              <td>Least Squares</td>   <th>  F-statistic:       </th>  <td>   3278.</td>  \n",
       "</tr>\n",
       "<tr>\n",
       "  <th>Date:</th>              <td>Wed, 03 Nov 2021</td>  <th>  Prob (F-statistic):</th>   <td>  0.00</td>   \n",
       "</tr>\n",
       "<tr>\n",
       "  <th>Time:</th>                  <td>20:27:47</td>      <th>  Log-Likelihood:    </th> <td>-1.9682e+05</td>\n",
       "</tr>\n",
       "<tr>\n",
       "  <th>No. Observations:</th>       <td> 15480</td>       <th>  AIC:               </th>  <td>3.937e+05</td> \n",
       "</tr>\n",
       "<tr>\n",
       "  <th>Df Residuals:</th>           <td> 15474</td>       <th>  BIC:               </th>  <td>3.937e+05</td> \n",
       "</tr>\n",
       "<tr>\n",
       "  <th>Df Model:</th>               <td>     5</td>       <th>                     </th>      <td> </td>     \n",
       "</tr>\n",
       "<tr>\n",
       "  <th>Covariance Type:</th>       <td>nonrobust</td>     <th>                     </th>      <td> </td>     \n",
       "</tr>\n",
       "</table>\n",
       "<table class=\"simpletable\">\n",
       "<tr>\n",
       "           <td></td>             <th>coef</th>     <th>std err</th>      <th>t</th>      <th>P>|t|</th>  <th>[0.025</th>    <th>0.975]</th>  \n",
       "</tr>\n",
       "<tr>\n",
       "  <th>const</th>              <td> 3.609e+04</td> <td> 3899.570</td> <td>    9.254</td> <td> 0.000</td> <td> 2.84e+04</td> <td> 4.37e+04</td>\n",
       "</tr>\n",
       "<tr>\n",
       "  <th>housing_median_age</th> <td> 1524.1522</td> <td>   56.634</td> <td>   26.913</td> <td> 0.000</td> <td> 1413.144</td> <td> 1635.161</td>\n",
       "</tr>\n",
       "<tr>\n",
       "  <th>population</th>         <td>    1.4416</td> <td>    0.595</td> <td>    2.421</td> <td> 0.015</td> <td>    0.274</td> <td>    2.609</td>\n",
       "</tr>\n",
       "<tr>\n",
       "  <th>median_income</th>      <td> 4.368e+04</td> <td>  371.179</td> <td>  117.672</td> <td> 0.000</td> <td> 4.29e+04</td> <td> 4.44e+04</td>\n",
       "</tr>\n",
       "<tr>\n",
       "  <th>ocean_proximity</th>    <td>-1.102e+04</td> <td>  790.393</td> <td>  -13.946</td> <td> 0.000</td> <td>-1.26e+04</td> <td>-9473.220</td>\n",
       "</tr>\n",
       "<tr>\n",
       "  <th>avg_rooms</th>          <td>-3169.9281</td> <td>  298.862</td> <td>  -10.607</td> <td> 0.000</td> <td>-3755.733</td> <td>-2584.123</td>\n",
       "</tr>\n",
       "</table>\n",
       "<table class=\"simpletable\">\n",
       "<tr>\n",
       "  <th>Omnibus:</th>       <td>3454.501</td> <th>  Durbin-Watson:     </th> <td>   2.011</td>\n",
       "</tr>\n",
       "<tr>\n",
       "  <th>Prob(Omnibus):</th>  <td> 0.000</td>  <th>  Jarque-Bera (JB):  </th> <td>8828.748</td>\n",
       "</tr>\n",
       "<tr>\n",
       "  <th>Skew:</th>           <td> 1.216</td>  <th>  Prob(JB):          </th> <td>    0.00</td>\n",
       "</tr>\n",
       "<tr>\n",
       "  <th>Kurtosis:</th>       <td> 5.787</td>  <th>  Cond. No.          </th> <td>1.12e+04</td>\n",
       "</tr>\n",
       "</table><br/><br/>Notes:<br/>[1] Standard Errors assume that the covariance matrix of the errors is correctly specified.<br/>[2] The condition number is large, 1.12e+04. This might indicate that there are<br/>strong multicollinearity or other numerical problems."
      ],
      "text/plain": [
       "<class 'statsmodels.iolib.summary.Summary'>\n",
       "\"\"\"\n",
       "                            OLS Regression Results                            \n",
       "==============================================================================\n",
       "Dep. Variable:     median_house_value   R-squared:                       0.514\n",
       "Model:                            OLS   Adj. R-squared:                  0.514\n",
       "Method:                 Least Squares   F-statistic:                     3278.\n",
       "Date:                Wed, 03 Nov 2021   Prob (F-statistic):               0.00\n",
       "Time:                        20:27:47   Log-Likelihood:            -1.9682e+05\n",
       "No. Observations:               15480   AIC:                         3.937e+05\n",
       "Df Residuals:                   15474   BIC:                         3.937e+05\n",
       "Df Model:                           5                                         \n",
       "Covariance Type:            nonrobust                                         \n",
       "======================================================================================\n",
       "                         coef    std err          t      P>|t|      [0.025      0.975]\n",
       "--------------------------------------------------------------------------------------\n",
       "const               3.609e+04   3899.570      9.254      0.000    2.84e+04    4.37e+04\n",
       "housing_median_age  1524.1522     56.634     26.913      0.000    1413.144    1635.161\n",
       "population             1.4416      0.595      2.421      0.015       0.274       2.609\n",
       "median_income       4.368e+04    371.179    117.672      0.000    4.29e+04    4.44e+04\n",
       "ocean_proximity    -1.102e+04    790.393    -13.946      0.000   -1.26e+04   -9473.220\n",
       "avg_rooms          -3169.9281    298.862    -10.607      0.000   -3755.733   -2584.123\n",
       "==============================================================================\n",
       "Omnibus:                     3454.501   Durbin-Watson:                   2.011\n",
       "Prob(Omnibus):                  0.000   Jarque-Bera (JB):             8828.748\n",
       "Skew:                           1.216   Prob(JB):                         0.00\n",
       "Kurtosis:                       5.787   Cond. No.                     1.12e+04\n",
       "==============================================================================\n",
       "\n",
       "Notes:\n",
       "[1] Standard Errors assume that the covariance matrix of the errors is correctly specified.\n",
       "[2] The condition number is large, 1.12e+04. This might indicate that there are\n",
       "strong multicollinearity or other numerical problems.\n",
       "\"\"\""
      ]
     },
     "execution_count": 36,
     "metadata": {},
     "output_type": "execute_result"
    }
   ],
   "source": [
    "model_train.summary()"
   ]
  },
  {
   "cell_type": "code",
   "execution_count": 37,
   "id": "675de557",
   "metadata": {},
   "outputs": [
    {
     "name": "stdout",
     "output_type": "stream",
     "text": [
      "==============Mean==============\n",
      "median_house_value    208017.006395\n",
      "dtype: float64\n",
      "==============MAE==============\n",
      "58957.81998106629\n",
      "==============MSE==============\n",
      "13334008481.371748\n"
     ]
    }
   ],
   "source": [
    "## MAEBaseline and MAEReression\n",
    "ypred = model_train.predict(X_test)\n",
    "print('=============OLS results=============')\n",
    "print('================Mean=================')\n",
    "print(y_test.mean())\n",
    "print('================MAE==================')\n",
    "print(mae(y_test.values, predictions))\n",
    "print('================MSE==================')\n",
    "print(model_train.mse_total)"
   ]
  },
  {
   "cell_type": "code",
   "execution_count": 38,
   "id": "1f21088e",
   "metadata": {},
   "outputs": [
    {
     "name": "stdout",
     "output_type": "stream",
     "text": [
      "median_house_value    1.073368e+09\n",
      "dtype: float64\n"
     ]
    }
   ],
   "source": [
    "print(y_test.sum())"
   ]
  },
  {
   "cell_type": "code",
   "execution_count": 39,
   "id": "80641fe3",
   "metadata": {},
   "outputs": [
    {
     "name": "stdout",
     "output_type": "stream",
     "text": [
      "1065546888.8921914\n"
     ]
    }
   ],
   "source": [
    "print(ypred.sum())"
   ]
  },
  {
   "cell_type": "code",
   "execution_count": null,
   "id": "f27c47cd",
   "metadata": {},
   "outputs": [],
   "source": []
  }
 ],
 "metadata": {
  "kernelspec": {
   "display_name": "Python 3",
   "language": "python",
   "name": "python3"
  },
  "language_info": {
   "codemirror_mode": {
    "name": "ipython",
    "version": 3
   },
   "file_extension": ".py",
   "mimetype": "text/x-python",
   "name": "python",
   "nbconvert_exporter": "python",
   "pygments_lexer": "ipython3",
   "version": "3.8.8"
  }
 },
 "nbformat": 4,
 "nbformat_minor": 5
}
