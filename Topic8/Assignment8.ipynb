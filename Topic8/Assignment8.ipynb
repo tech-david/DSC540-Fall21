{
 "cells": [
  {
   "cell_type": "code",
   "execution_count": 1,
   "id": "b1ea9667",
   "metadata": {},
   "outputs": [],
   "source": [
    "import pandas as pd\n",
    "import numpy as np\n",
    "from sklearn.model_selection import KFold, cross_val_score\n",
    "from sklearn.ensemble import BaggingClassifier, AdaBoostClassifier, RandomForestClassifier, VotingClassifier, \\\n",
    "    StackingClassifier\n",
    "from sklearn.naive_bayes import MultinomialNB\n",
    "from sklearn.neighbors import KNeighborsClassifier\n",
    "from sklearn.neural_network import MLPClassifier\n",
    "from sklearn.svm import SVC\n",
    "from sklearn.tree import DecisionTreeClassifier\n",
    "from sklearn.preprocessing import StandardScaler\n",
    "import warnings\n",
    "warnings.filterwarnings(\"ignore\")"
   ]
  },
  {
   "cell_type": "code",
   "execution_count": 2,
   "id": "bcad6537",
   "metadata": {},
   "outputs": [],
   "source": [
    "## Load Data\n",
    "df = pd.read_csv(\"C:/Users/David/OneDrive - Grand Canyon University/DSC540/DataSets/Topic8/hand-DS1.csv\")\n",
    "\n",
    "X = df[['min(X)', 'min(Y)', 'min(Z)', 'max(Y)', 'max(Z)', 'mean(X)', 'variance(Z)', 'std(X)', 'std(Y)', 'std(Z)',\n",
    "        'median(X)', 'percentile25(X)', 'percentile75(X)', 'percentile25(Z)', 'zerocross(X)', 'zerocross(Z)',\n",
    "        'energy(X)', 'dominantFr(X)']]\n",
    "\n",
    "y = df[['8activity']]"
   ]
  },
  {
   "cell_type": "code",
   "execution_count": 3,
   "id": "29948280",
   "metadata": {},
   "outputs": [],
   "source": [
    "## Normalize\n",
    "std_scaler = StandardScaler()\n",
    "X = std_scaler.fit_transform(X)"
   ]
  },
  {
   "cell_type": "code",
   "execution_count": 4,
   "id": "601f427e",
   "metadata": {},
   "outputs": [],
   "source": [
    "## Using Kfold to use for LeaveOneOut in cross-validation\n",
    "kf = KFold(n_splits=8)"
   ]
  },
  {
   "cell_type": "code",
   "execution_count": 5,
   "id": "f5911d7e",
   "metadata": {},
   "outputs": [
    {
     "name": "stdout",
     "output_type": "stream",
     "text": [
      "Bagging tree average score: 0.77\n"
     ]
    }
   ],
   "source": [
    "## Bagging Decision Tree\n",
    "bagging_tree = BaggingClassifier(DecisionTreeClassifier(),\n",
    "                                 n_estimators=20)\n",
    "score_bagging_tree = cross_val_score(bagging_tree, X, np.ravel(y), cv=kf, scoring='f1_weighted')\n",
    "## Evaluation\n",
    "print(f'Bagging tree average score: {\"{:.2f}\".format(score_bagging_tree.mean())}')"
   ]
  },
  {
   "cell_type": "code",
   "execution_count": 6,
   "id": "35c32943",
   "metadata": {},
   "outputs": [
    {
     "name": "stdout",
     "output_type": "stream",
     "text": [
      "Boosted tree average score: 0.75\n"
     ]
    }
   ],
   "source": [
    "## Boosted Decision Tree\n",
    "boosted_tree = AdaBoostClassifier(base_estimator=DecisionTreeClassifier(),\n",
    "                                  n_estimators=100)\n",
    "\n",
    "score_boosted_tree = cross_val_score(boosted_tree, X, np.ravel(y), cv=kf, scoring='f1_weighted')\n",
    "\n",
    "## Evaluation\n",
    "print(f'Boosted tree average score: {\"{:.2f}\".format(score_boosted_tree.mean())}')"
   ]
  },
  {
   "cell_type": "code",
   "execution_count": 7,
   "id": "d50c8142",
   "metadata": {},
   "outputs": [
    {
     "name": "stdout",
     "output_type": "stream",
     "text": [
      "Random forest verage score: 0.79\n"
     ]
    }
   ],
   "source": [
    "## Random Forest \n",
    "random_forest = RandomForestClassifier(max_features='sqrt')\n",
    "\n",
    "score_random_forest = cross_val_score(random_forest, X, np.ravel(y), cv=kf, scoring='f1_weighted')\n",
    "## Evaluation\n",
    "print(f'Random forest verage score: {\"{:.2f}\".format(score_random_forest.mean())}')"
   ]
  },
  {
   "cell_type": "code",
   "execution_count": 8,
   "id": "411b4aed",
   "metadata": {},
   "outputs": [
    {
     "name": "stdout",
     "output_type": "stream",
     "text": [
      "BDT average score: 0.75\n"
     ]
    }
   ],
   "source": [
    "## Decision Tree\n",
    "binary_decision_tree = DecisionTreeClassifier(max_leaf_nodes=21)\n",
    "\n",
    "score_bdt = cross_val_score(binary_decision_tree, X, np.ravel(y), cv=kf, scoring='f1_weighted')\n",
    "\n",
    "## Evaluation\n",
    "print(f'BDT average score: {\"{:.2f}\".format(score_bdt.mean())}')"
   ]
  },
  {
   "cell_type": "code",
   "execution_count": 9,
   "id": "d30c9b40",
   "metadata": {},
   "outputs": [
    {
     "name": "stdout",
     "output_type": "stream",
     "text": [
      "KNN average score: 0.83\n"
     ]
    }
   ],
   "source": [
    "## K Nearest Neighbor\n",
    "k_nearest_neighbor = KNeighborsClassifier(n_neighbors=7)\n",
    "\n",
    "score_knn = cross_val_score(k_nearest_neighbor, X, np.ravel(y), cv=kf, scoring='f1_weighted')\n",
    "\n",
    "## Evaluation\n",
    "print(f'KNN average score: {\"{:.2f}\".format(score_knn.mean())}')"
   ]
  },
  {
   "cell_type": "code",
   "execution_count": 10,
   "id": "f828e639",
   "metadata": {},
   "outputs": [
    {
     "name": "stdout",
     "output_type": "stream",
     "text": [
      "SVM average score: 0.88\n"
     ]
    }
   ],
   "source": [
    "## SVM\n",
    "support_vector_machine = SVC(kernel='linear', probability=True)\n",
    "\n",
    "score_svc = cross_val_score(support_vector_machine, X, np.ravel(y), cv=kf, scoring='f1_weighted')\n",
    "\n",
    "## Evaluation\n",
    "print(f'SVM average score: {\"{:.2f}\".format(score_svc.mean())}')"
   ]
  },
  {
   "cell_type": "code",
   "execution_count": 11,
   "id": "aaaebde8",
   "metadata": {},
   "outputs": [
    {
     "name": "stdout",
     "output_type": "stream",
     "text": [
      "ANN average score: 0.87\n"
     ]
    }
   ],
   "source": [
    "## ANN\n",
    "artificial_neural_network = MLPClassifier(hidden_layer_sizes=50,\n",
    "                                          max_iter=250)\n",
    "\n",
    "score_ann = cross_val_score(artificial_neural_network, X, np.ravel(y), cv=kf, scoring='f1_weighted')\n",
    "\n",
    "## Evaluation\n",
    "print(f'ANN average score: {\"{:.2f}\".format(score_ann.mean())}')"
   ]
  },
  {
   "cell_type": "code",
   "execution_count": 12,
   "id": "857b3133",
   "metadata": {},
   "outputs": [
    {
     "name": "stdout",
     "output_type": "stream",
     "text": [
      "WMV average score: 0.86\n"
     ]
    }
   ],
   "source": [
    "## WVM\n",
    "weighted_majority_vote = VotingClassifier(estimators=[('bdt', binary_decision_tree),\n",
    "                                                      ('knn', k_nearest_neighbor),\n",
    "                                                      ('svm', support_vector_machine),\n",
    "                                                      ('ann', artificial_neural_network)],\n",
    "                                          voting='soft')\n",
    "\n",
    "score_wmv = cross_val_score(weighted_majority_vote, X, np.ravel(y), cv=kf, scoring='f1_weighted')\n",
    "\n",
    "## Evaluation\n",
    "print(f'WMV average score: {\"{:.2f}\".format(score_wmv.mean())}')"
   ]
  },
  {
   "cell_type": "code",
   "execution_count": 13,
   "id": "b0d3e275",
   "metadata": {},
   "outputs": [
    {
     "name": "stdout",
     "output_type": "stream",
     "text": [
      "NBC average score: 0.87\n"
     ]
    }
   ],
   "source": [
    "## NBC\n",
    "naive_bayes_combiner = StackingClassifier(estimators=[('bdt', binary_decision_tree),\n",
    "                                                      ('knn', k_nearest_neighbor),\n",
    "                                                      ('svm', support_vector_machine),\n",
    "                                                      ('ann', artificial_neural_network)],\n",
    "                                          final_estimator=MultinomialNB())\n",
    "\n",
    "score_nbc = cross_val_score(naive_bayes_combiner, X, np.ravel(y), cv=kf, scoring='f1_weighted')\n",
    "\n",
    "## Evaluation\n",
    "print(f'NBC average score: {\"{:.2f}\".format(score_nbc.mean())}')"
   ]
  },
  {
   "cell_type": "code",
   "execution_count": 14,
   "id": "9c2b3589",
   "metadata": {},
   "outputs": [
    {
     "name": "stdout",
     "output_type": "stream",
     "text": [
      "BKS average score: 0.87\n"
     ]
    }
   ],
   "source": [
    "## BKS\n",
    "behavioral_knowledge_space = StackingClassifier(estimators=[('bdt', binary_decision_tree),\n",
    "                                                            ('knn', k_nearest_neighbor),\n",
    "                                                            ('svm', support_vector_machine),\n",
    "                                                            ('ann', artificial_neural_network)],\n",
    "                                                final_estimator=weighted_majority_vote)\n",
    "\n",
    "score_bks = cross_val_score(behavioral_knowledge_space, X, np.ravel(y), cv=kf, scoring='f1_weighted')\n",
    "\n",
    "## Evaluation\n",
    "print(f'BKS average score: {\"{:.2f}\".format(score_bks.mean())}')"
   ]
  }
 ],
 "metadata": {
  "kernelspec": {
   "display_name": "Python 3",
   "language": "python",
   "name": "python3"
  },
  "language_info": {
   "codemirror_mode": {
    "name": "ipython",
    "version": 3
   },
   "file_extension": ".py",
   "mimetype": "text/x-python",
   "name": "python",
   "nbconvert_exporter": "python",
   "pygments_lexer": "ipython3",
   "version": "3.8.8"
  }
 },
 "nbformat": 4,
 "nbformat_minor": 5
}
