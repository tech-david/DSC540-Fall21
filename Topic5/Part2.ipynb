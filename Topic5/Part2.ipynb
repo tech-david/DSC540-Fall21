{
 "cells": [
  {
   "cell_type": "code",
   "execution_count": 2,
   "id": "a05b9794",
   "metadata": {},
   "outputs": [],
   "source": [
    "import pandas as pd\n",
    "from sklearn.preprocessing import LabelEncoder\n",
    "import numpy as np\n",
    "import skfuzzy as fuzz\n",
    "from sklearn.model_selection import train_test_split\n",
    "from sklearn.tree import DecisionTreeClassifier\n",
    "from sklearn import tree\n",
    "import graphviz\n",
    "import os\n",
    "#Path will change depending on where graphviz executables are located\n",
    "#If path is already established in environment variables, it may not be needed\n",
    "# os.environ[\"PATH\"] += os.pathsep + 'C:/Program Files/Graphviz/bin'"
   ]
  },
  {
   "cell_type": "code",
   "execution_count": 3,
   "id": "f1666d30",
   "metadata": {},
   "outputs": [],
   "source": [
    "c0 = [\"hot\", \"hot\", \"hot\", \"mild\", \"cool\", \"cool\", \"cool\", \"mild\", \"cool\", \"mild\", \"mild\", \"mild\", \"hot\",\n",
    "      \"mild\"]\n",
    "c1 = [\"weak\", \"strong\", \"weak\", \"weak\", \"weak\", \"strong\", \"strong\", \"weak\", \"weak\", \"weak\", \"strong\", \"strong\",\n",
    "      \"weak\", \"strong\"]\n",
    "c2 = [\"long\", \"long\", \"long\", \"long\", \"short\", \"short\", \"short\", \"long\", \"short\", \"short\", \"short\", \"long\",\n",
    "      \"short\", \"long\"]\n",
    "c3 = [\"no\", \"no\", \"yes\", \"yes\", \"yes\", \"no\", \"yes\", \"no\", \"yes\", \"yes\", \"yes\", \"yes\", \"yes\", \"no\"]\n",
    "\n",
    "data_frame = pd.DataFrame([c0, c1, c2, c3]).T"
   ]
  },
  {
   "cell_type": "code",
   "execution_count": 4,
   "id": "ea17c2f1",
   "metadata": {},
   "outputs": [],
   "source": [
    "#Using label encoder to numerize categories\n",
    "label_encoder = LabelEncoder()\n",
    "data_frame[0] = label_encoder.fit_transform(data_frame[0])\n",
    "data_frame[1] = label_encoder.fit_transform(data_frame[1])\n",
    "data_frame[2] = label_encoder.fit_transform(data_frame[2])\n",
    "data_frame[3] = label_encoder.fit_transform(data_frame[3])\n",
    "y = data_frame.iloc[:, 3]"
   ]
  },
  {
   "cell_type": "code",
   "execution_count": 5,
   "id": "bcbbe146",
   "metadata": {},
   "outputs": [],
   "source": [
    "# Converting to numpy to use skfuzzy\n",
    "temp_numpy = np.asarray(data_frame[0])\n",
    "wind_numpy = np.asarray(data_frame[1])\n",
    "traffic_numpy = np.asarray(data_frame[2])\n",
    "temp_fuzzy = fuzz.trimf(temp_numpy, [0, 1.25, 2])\n",
    "wind_fuzzy = fuzz.trimf(wind_numpy, [0, 0.01, 1])\n",
    "traffic_fuzzy = fuzz.trimf(traffic_numpy, [0, 0.999, 1])\n",
    "\n",
    "X = pd.DataFrame([temp_fuzzy, wind_fuzzy, traffic_fuzzy]).T"
   ]
  },
  {
   "cell_type": "code",
   "execution_count": 6,
   "id": "f7f35d32",
   "metadata": {},
   "outputs": [
    {
     "data": {
      "text/plain": [
       "DecisionTreeClassifier(criterion='entropy', random_state=0)"
      ]
     },
     "execution_count": 6,
     "metadata": {},
     "output_type": "execute_result"
    }
   ],
   "source": [
    "X_train, X_test, y_train, y_test = train_test_split(X,\n",
    "                                                    y,\n",
    "                                                    test_size=0.1,\n",
    "                                                    random_state=42)\n",
    "\n",
    "clf = DecisionTreeClassifier(random_state=0,\n",
    "                             criterion=\"entropy\")\n",
    "clf.fit(X_train, y_train)"
   ]
  },
  {
   "cell_type": "code",
   "execution_count": 7,
   "id": "13cd6162",
   "metadata": {},
   "outputs": [
    {
     "name": "stdout",
     "output_type": "stream",
     "text": [
      "Decision Fuzzy Tree score:  1.0\n"
     ]
    }
   ],
   "source": [
    "features = ['temperature', 'wind', 'traffic']\n",
    "response = ['no', 'yes']\n",
    "\n",
    "dot_data = tree.export_graphviz(clf,\n",
    "                                out_file=None,\n",
    "                                feature_names=features,\n",
    "                                class_names=response,\n",
    "                                filled=True)\n",
    "# Draw graph\n",
    "graph = graphviz.Source(dot_data, format=\"png\")\n",
    "graph\n",
    "graph.render(\"car_driving_tree_fuzzy\")\n",
    "print(\"Decision Fuzzy Tree score: \", clf.score(X_test, y_test))"
   ]
  }
 ],
 "metadata": {
  "kernelspec": {
   "display_name": "Python 3",
   "language": "python",
   "name": "python3"
  },
  "language_info": {
   "codemirror_mode": {
    "name": "ipython",
    "version": 3
   },
   "file_extension": ".py",
   "mimetype": "text/x-python",
   "name": "python",
   "nbconvert_exporter": "python",
   "pygments_lexer": "ipython3",
   "version": "3.8.8"
  }
 },
 "nbformat": 4,
 "nbformat_minor": 5
}
