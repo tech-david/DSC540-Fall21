{
 "cells": [
  {
   "cell_type": "code",
   "execution_count": 47,
   "id": "fe647eb5",
   "metadata": {},
   "outputs": [],
   "source": [
    "import pandas as pd\n",
    "import numpy as np\n",
    "from sklearn.ensemble import RandomForestClassifier\n",
    "from sklearn.model_selection import train_test_split\n",
    "from sklearn import metrics\n",
    "from sklearn.feature_selection import SelectFromModel\n",
    "import matplotlib.pyplot as plt\n",
    "%matplotlib inline"
   ]
  },
  {
   "cell_type": "code",
   "execution_count": 48,
   "id": "b93901dd",
   "metadata": {},
   "outputs": [],
   "source": [
    "path = \"C:/Users/David's PC/OneDrive - Grand Canyon University/DSC540/DataSets\"\n",
    "file = \"breast-cancer-wisconsin.data\"\n",
    "full_path = path + \"/\" + file\n",
    "headers_list = [\"id\",\n",
    "                \"clump_thickness\",\n",
    "                \"uniformity_of_cell_size\",\n",
    "                \"uniformity_of_cell_shape\",\n",
    "                \"marginal_adhesion\",\n",
    "                \"single_epithelial_cell_size\",\n",
    "                \"bare_nuclei\",\n",
    "                \"bland_chromatin\",\n",
    "                \"normal_nucleoli\",\n",
    "                \"mitoses\",\n",
    "                \"class\"]\n",
    "data = pd.read_csv(full_path,\n",
    "                   names=headers_list,\n",
    "                   index_col=headers_list[0])"
   ]
  },
  {
   "cell_type": "code",
   "execution_count": 49,
   "id": "5dd51a03",
   "metadata": {},
   "outputs": [],
   "source": [
    "y = data[['class']]\n",
    "X_preprocessed = data.loc[:, data.columns != 'class']"
   ]
  },
  {
   "cell_type": "code",
   "execution_count": 50,
   "id": "bb6c50a8",
   "metadata": {},
   "outputs": [],
   "source": [
    "## Replacing missing data with 0\n",
    "X_preprocessed = X.replace('?',\n",
    "              0)\n",
    "\n",
    "X_pre_train, X_pre_test, y_pre_train, y_pre_test = train_test_split(X_preprocessed,\n",
    "                                                                    y,\n",
    "                                                                    test_size=0.25,\n",
    "                                                                    random_state=42)"
   ]
  },
  {
   "cell_type": "code",
   "execution_count": 51,
   "id": "5685c46c",
   "metadata": {},
   "outputs": [
    {
     "name": "stdout",
     "output_type": "stream",
     "text": [
      "Index(['bland_chromatin'], dtype='object')\n"
     ]
    }
   ],
   "source": [
    "## Using Scikitlearn SelectFromModel to find best features\n",
    "sel = SelectFromModel(RandomForestClassifier(n_estimators=100))\n",
    "sel.fit(X_pre_train, np.ravel(y_train))\n",
    "sel.get_support()\n",
    "selected_feat = X_pre_train.columns[(sel.get_support())]\n",
    "len(selected_feat)\n",
    "print(selected_feat)"
   ]
  },
  {
   "cell_type": "code",
   "execution_count": 52,
   "id": "f5f184e1",
   "metadata": {},
   "outputs": [],
   "source": [
    "X = pd.concat((data[['uniformity_of_cell_size']],\n",
    "               data[['uniformity_of_cell_shape']],\n",
    "               data[['bare_nuclei']],\n",
    "               data[['bland_chromatin']]),\n",
    "              axis=1)\n",
    "X = X.replace('?',\n",
    "              0)"
   ]
  },
  {
   "cell_type": "code",
   "execution_count": 53,
   "id": "32c8334a",
   "metadata": {},
   "outputs": [],
   "source": [
    "X_train, X_test, y_train, y_test = train_test_split(X,\n",
    "                                                    y,\n",
    "                                                    test_size=0.25,\n",
    "                                                    random_state=42)"
   ]
  },
  {
   "cell_type": "code",
   "execution_count": 54,
   "id": "5298da21",
   "metadata": {},
   "outputs": [],
   "source": [
    "error_sqrt = []\n",
    "error_log2 = []\n",
    "trees = []\n",
    "\n",
    "for t in range(1, 300, 10):\n",
    "    trees.append(t)\n",
    "\n",
    "## Random Forest Classifiers using sq. rt. as number of features\n",
    "for i in range(1, 300, 10):\n",
    "    model = RandomForestClassifier(n_estimators=i,\n",
    "                                   max_features=\"sqrt\",\n",
    "                                   criterion=\"gini\").fit(X_train,\n",
    "                                                         np.ravel(y_train))\n",
    "    predictions = model.predict(X_test)\n",
    "    error = 1 - metrics.accuracy_score(y_test, predictions)\n",
    "    error_sqrt.append(error)\n",
    "\n",
    "## Random Forest Classifiers using log2 as number of features\n",
    "for j in range(1, 300, 10):\n",
    "    model = RandomForestClassifier(n_estimators=j,\n",
    "                                   max_features=\"log2\",\n",
    "                                   criterion=\"gini\").fit(X_train,\n",
    "                                                         np.ravel(y_train))\n",
    "    predictions = model.predict(X_test)\n",
    "    error = 1 - metrics.accuracy_score(y_test, predictions)\n",
    "    error_log2.append(error)"
   ]
  },
  {
   "cell_type": "code",
   "execution_count": 55,
   "id": "53189441",
   "metadata": {},
   "outputs": [],
   "source": [
    "plot_data = pd.DataFrame({\"num_of_trees\": trees,\n",
    "                          \"error_square_root\": error_sqrt,\n",
    "                          \"error_log2\": error_log2})"
   ]
  },
  {
   "cell_type": "code",
   "execution_count": 56,
   "id": "b0b36354",
   "metadata": {},
   "outputs": [
    {
     "data": {
      "image/png": "[encoded data removed]",
      "text/plain": [
       "<Figure size 432x288 with 1 Axes>"
      ]
     },
     "metadata": {
      "needs_background": "light"
     },
     "output_type": "display_data"
    }
   ],
   "source": [
    "plt.plot(plot_data[\"num_of_trees\"], \n",
    "         plot_data['error_square_root'],\n",
    "         marker='o')\n",
    "plt.show()"
   ]
  },
  {
   "cell_type": "code",
   "execution_count": 57,
   "id": "5dce8171",
   "metadata": {},
   "outputs": [
    {
     "data": {
      "image/png": "[encoded data removed]",
      "text/plain": [
       "<Figure size 432x288 with 1 Axes>"
      ]
     },
     "metadata": {
      "needs_background": "light"
     },
     "output_type": "display_data"
    }
   ],
   "source": [
    "plt.plot(plot_data[\"num_of_trees\"], \n",
    "         plot_data['error_log2'],\n",
    "         marker='o')\n",
    "plt.show()"
   ]
  },
  {
   "cell_type": "code",
   "execution_count": null,
   "id": "36ad2653",
   "metadata": {},
   "outputs": [],
   "source": []
  }
 ],
 "metadata": {
  "kernelspec": {
   "display_name": "Python 3",
   "language": "python",
   "name": "python3"
  },
  "language_info": {
   "codemirror_mode": {
    "name": "ipython",
    "version": 3
   },
   "file_extension": ".py",
   "mimetype": "text/x-python",
   "name": "python",
   "nbconvert_exporter": "python",
   "pygments_lexer": "ipython3",
   "version": "3.8.8"
  }
 },
 "nbformat": 4,
 "nbformat_minor": 5
}
