{
 "cells": [
  {
   "cell_type": "code",
   "execution_count": 1,
   "id": "628a4b67",
   "metadata": {},
   "outputs": [],
   "source": [
    "import pandas as pd\n",
    "from sklearn.preprocessing import LabelEncoder\n",
    "from sklearn.tree import DecisionTreeClassifier\n",
    "import numpy as np\n",
    "from sklearn import tree\n",
    "import graphviz\n",
    "from matplotlib import pyplot as plt\n",
    "from mlxtend.plotting import plot_decision_regions\n",
    "from sklearn.model_selection import train_test_split"
   ]
  },
  {
   "cell_type": "code",
   "execution_count": 2,
   "id": "4df5f23d",
   "metadata": {},
   "outputs": [],
   "source": [
    "c0 = [\"hot\", \"hot\", \"hot\", \"mild\", \"cool\", \"cool\", \"cool\", \"mild\", \"cool\", \"mild\", \"mild\", \"mild\", \"hot\",\n",
    "      \"mild\"]\n",
    "c1 = [\"weak\", \"strong\", \"weak\", \"weak\", \"weak\", \"strong\", \"strong\", \"weak\", \"weak\", \"weak\", \"strong\", \"strong\",\n",
    "      \"weak\", \"strong\"]\n",
    "c2 = [\"long\", \"long\", \"long\", \"long\", \"short\", \"short\", \"short\", \"long\", \"short\", \"short\", \"short\", \"long\",\n",
    "      \"short\", \"long\"]\n",
    "c3 = [\"no\", \"no\", \"yes\", \"yes\", \"yes\", \"no\", \"yes\", \"no\", \"yes\", \"yes\", \"yes\", \"yes\", \"yes\", \"no\"]\n",
    "\n",
    "df = pd.DataFrame([c0, c1, c2, c3]).T"
   ]
  },
  {
   "cell_type": "code",
   "execution_count": 3,
   "id": "92958e4c",
   "metadata": {},
   "outputs": [],
   "source": [
    "label_encoder = LabelEncoder()\n",
    "df[0] = label_encoder.fit_transform(df[0])\n",
    "df[1] = label_encoder.fit_transform(df[1])\n",
    "df[2] = label_encoder.fit_transform(df[2])\n",
    "df[3] = label_encoder.fit_transform(df[3])\n",
    "X = df.iloc[:, 0:3]\n",
    "y = df.iloc[:, 3]"
   ]
  },
  {
   "cell_type": "code",
   "execution_count": 4,
   "id": "18897f16",
   "metadata": {},
   "outputs": [
    {
     "data": {
      "text/plain": [
       "DecisionTreeClassifier(criterion='entropy', random_state=0)"
      ]
     },
     "execution_count": 4,
     "metadata": {},
     "output_type": "execute_result"
    }
   ],
   "source": [
    "X_train, X_test, y_train, y_test = train_test_split(X,\n",
    "                                                    y,\n",
    "                                                    test_size=0.1,\n",
    "                                                    random_state=42)\n",
    "\n",
    "clf = DecisionTreeClassifier(random_state=0,\n",
    "                             criterion=\"entropy\")\n",
    "clf.fit(X_train, y_train)"
   ]
  },
  {
   "cell_type": "code",
   "execution_count": 5,
   "id": "4221c42b",
   "metadata": {},
   "outputs": [
    {
     "data": {
      "text/plain": [
       "'car_driving_tree.png'"
      ]
     },
     "execution_count": 5,
     "metadata": {},
     "output_type": "execute_result"
    }
   ],
   "source": [
    "features = ['temperature', 'wind', 'traffic']\n",
    "response = ['no', 'yes']\n",
    "\n",
    "dot_data = tree.export_graphviz(clf,\n",
    "                                out_file=None,\n",
    "                                feature_names=features,\n",
    "                                class_names=response,\n",
    "                                filled=True)\n",
    "# Draw graph\n",
    "graph = graphviz.Source(dot_data, format=\"png\")\n",
    "graph\n",
    "graph.render(\"car_driving_tree\")\n"
   ]
  },
  {
   "cell_type": "code",
   "execution_count": 6,
   "id": "50c47207",
   "metadata": {},
   "outputs": [],
   "source": [
    "def entropy(target_col):\n",
    "    elements, counts = np.unique(target_col,\n",
    "                                 return_counts=True)\n",
    "    entropy_sum = np.sum(\n",
    "        [(-counts[i] / np.sum(counts)) * np.log2(counts[i] / np.sum(counts)) for i in range(len(elements))])\n",
    "    return entropy_sum\n",
    "\n",
    "\n",
    "def info(data, split_attribute_name, target_name):\n",
    "    total_entropy = entropy(data[target_name])\n",
    "    values, counts = np.unique(data[split_attribute_name],\n",
    "                               return_counts=True)\n",
    "    weighted_entropy = np.sum(\n",
    "        [(counts[i] / np.sum(counts)) * entropy(data.where(data[split_attribute_name] == values[i])\n",
    "                                                .dropna()[target_name])\n",
    "         for i in range(len(values))])\n",
    "    information = total_entropy - weighted_entropy\n",
    "    return information"
   ]
  },
  {
   "cell_type": "code",
   "execution_count": 7,
   "id": "fa317384",
   "metadata": {},
   "outputs": [
    {
     "name": "stdout",
     "output_type": "stream",
     "text": [
      "Temperature:  0.02922256565895487\n",
      "Wind:   0.04812703040826949\n",
      "Traffic:  0.15183550136234159\n",
      "Decision Tree score:  0.5\n",
      "Decision Tree score(no train_test split):  0.7142857142857143\n"
     ]
    }
   ],
   "source": [
    "print(\"Temperature: \", info(df, 0, 3))\n",
    "print(\"Wind:  \", info(df, 1, 3))\n",
    "print(\"Traffic: \", info(df, 2, 3))\n",
    "print(\"Decision Tree score: \", clf.score(X_test, y_test))\n",
    "print(\"Decision Tree score(no train_test split): \", clf.score(X, y))"
   ]
  }
 ],
 "metadata": {
  "kernelspec": {
   "display_name": "Python 3",
   "language": "python",
   "name": "python3"
  },
  "language_info": {
   "codemirror_mode": {
    "name": "ipython",
    "version": 3
   },
   "file_extension": ".py",
   "mimetype": "text/x-python",
   "name": "python",
   "nbconvert_exporter": "python",
   "pygments_lexer": "ipython3",
   "version": "3.8.8"
  }
 },
 "nbformat": 4,
 "nbformat_minor": 5
}
